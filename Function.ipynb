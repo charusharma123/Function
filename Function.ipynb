{
  "nbformat": 4,
  "nbformat_minor": 0,
  "metadata": {
    "colab": {
      "provenance": []
    },
    "kernelspec": {
      "name": "python3",
      "display_name": "Python 3"
    },
    "language_info": {
      "name": "python"
    }
  },
  "cells": [
    {
      "cell_type": "markdown",
      "source": [
        "# Theory Questions:"
      ],
      "metadata": {
        "id": "NZP1QeNZyxOW"
      }
    },
    {
      "cell_type": "markdown",
      "source": [
        "1. Difference between a function and a method in Python.\n",
        "- A Function is a block of coad that perform a task and is defined independently, write a method is a fucntion associated with an object, typically invoked on an instance of a class.\n",
        "\n",
        "- Method: \"Hello\" .upper() (the upper method is tied to the string object.\n",
        "\n",
        "2. Concept of function argument and parameters in Python.\n",
        "- Parameters are variables defined in the function defined in the function defined, whereas arguments are actual values passed to the function when it's called.\n",
        "\n",
        "3. Ways to define and call a function in Python.\n",
        "- You can define a function using the def keyword, followed by the function name and parameters, and call the function by its name followed by parentheses.\n",
        "\n",
        "4. Purpose of the return statement:\n",
        "\n",
        "- The return statement is used to exit a function and pass the result back to the caller.\n",
        "\n",
        "5. What are iterators and how do they differ from iterables:\n",
        "\n",
        "- An iterable is an object that can return an iterator, such as lists or strings. An iterator is an object that provides a way to access the elements of an iterable one at a time using the _next_() method.\n",
        "\n",
        "6. Concept of generators and how they are defined:\n",
        "\n",
        "- A generator is a function that returns an iterator using the yield keyword instead of return. Generators are used to generate a sequence of values lazily (one at a time).\n",
        "\n",
        "7. Advantages of using generators over regular functions:\n",
        "\n",
        "- Generators provide memory efficiency since they yield items one at a time instead of returning the entire list at once.\n",
        "\n",
        "Generators can also be more efficient for handling large datasets or infinite sequences.\n",
        "\n",
        "8. Lambda function in Python and when it is used:\n",
        "\n",
        "- A lambda function is an anonymous function defined with the lambda keyword. It is used when a small function is required for a short duration.\n",
        "\n",
        "9. Purpose and usage of the map() function:\n",
        "\n",
        "- The map() function applies a given function to each item in an iterable and returns an iterator with the results.\n",
        "\n",
        "10. Difference between map(), reduce(), and filter() in Python:\n",
        "\n",
        "- map(): Applies a function to all items in an iterable.\n",
        "\n",
        "reduce(): Reduces an iterable to a single value by applying a binary function.\n",
        "\n",
        "filter(): Filters items in an iterable based on a function that returns True or False.\n",
        "\n",
        "11. Using pen & paper, write the internal mechanism for sum operation using reduce function on this given list: [47, 11, 42, 13].\n",
        "\n",
        "- I cannot draw or create images on paper, but I can explain the mechanism of how reduce() would sum the list:\n",
        "\n",
        "Start with the first two elements: 47 + 11 = 58\n",
        "\n",
        "Add the next element to the result: 58 + 42 = 100\n",
        "\n",
        "Add the final element: 100 + 13 = 113\n",
        "\n",
        "Final result: 113\n",
        "\n",
        "The sum operation is performed cumulatively by applying the addition function between pairs of elements.\n",
        "\n",
        "\n",
        "\n",
        "\n",
        "\n",
        "\n",
        "\n"
      ],
      "metadata": {
        "id": "4cXf1827cw4A"
      }
    },
    {
      "cell_type": "markdown",
      "source": [
        "# Practical questions:"
      ],
      "metadata": {
        "id": "y5jFV6DIyhTY"
      }
    },
    {
      "cell_type": "markdown",
      "source": [
        "1. Write a Python function that takes a list of numbers as input and returns the sum of all even numbers in the list.\n",
        "\n"
      ],
      "metadata": {
        "id": "VdZyK0A_yvcL"
      }
    },
    {
      "cell_type": "code",
      "execution_count": null,
      "metadata": {
        "id": "Bj69G4_OcqqF",
        "colab": {
          "base_uri": "https://localhost:8080/"
        },
        "outputId": "a72f9b20-280f-480e-dc06-c2773a6f4e69"
      },
      "outputs": [
        {
          "output_type": "stream",
          "name": "stdout",
          "text": [
            "12\n"
          ]
        }
      ],
      "source": [
        "def sum_of_evens(numbers):\n",
        "    return sum(num for num in numbers if num % 2 == 0)\n",
        "\n",
        "# Example usage\n",
        "numbers = [1, 2, 3, 4, 5, 6]\n",
        "print(sum_of_evens(numbers))\n",
        "\n"
      ]
    },
    {
      "cell_type": "markdown",
      "source": [
        "2. Create a Python function that accepts a string and returns the reverse of that string.\n",
        "\n"
      ],
      "metadata": {
        "id": "vvlo5Q3czlMz"
      }
    },
    {
      "cell_type": "code",
      "source": [
        "def reverse_string(s):\n",
        "    return s[::-1]\n",
        "\n",
        "# Example usage\n",
        "print(reverse_string(\"hello\"))"
      ],
      "metadata": {
        "colab": {
          "base_uri": "https://localhost:8080/"
        },
        "id": "5detXtNSzk61",
        "outputId": "ea069a7a-41a1-423b-fcdc-e0d1264e7b79"
      },
      "execution_count": null,
      "outputs": [
        {
          "output_type": "stream",
          "name": "stdout",
          "text": [
            "olleh\n"
          ]
        }
      ]
    },
    {
      "cell_type": "markdown",
      "source": [
        "3. Implement a Python function that takes a list of integers and returns a new list containing the squares of each number.\n",
        "\n"
      ],
      "metadata": {
        "id": "DTvkp4pjzkqi"
      }
    },
    {
      "cell_type": "code",
      "source": [
        "def square_numbers(numbers):\n",
        "    return [num ** 2 for num in numbers]\n",
        "\n",
        "# Example usage\n",
        "numbers = [1, 2, 3, 4]\n",
        "print(square_numbers(numbers))"
      ],
      "metadata": {
        "colab": {
          "base_uri": "https://localhost:8080/"
        },
        "id": "j5dU-dOIzkaz",
        "outputId": "187fb9ae-ac28-44ef-8ac7-fc83964a71f7"
      },
      "execution_count": null,
      "outputs": [
        {
          "output_type": "stream",
          "name": "stdout",
          "text": [
            "[1, 4, 9, 16]\n"
          ]
        }
      ]
    },
    {
      "cell_type": "markdown",
      "source": [
        "4. Write a Python function that checks if a given number is prime or not from 1 to 200.\n"
      ],
      "metadata": {
        "id": "GzPob0iEzkLS"
      }
    },
    {
      "cell_type": "code",
      "source": [
        "def is_prime(n):\n",
        "    if n <= 1:\n",
        "        return False\n",
        "    for i in range(2, int(n ** 0.5) + 1):\n",
        "        if n % i == 0:\n",
        "            return False\n",
        "    return True\n",
        "\n",
        "# Example usage\n",
        "primes = [n for n in range(1, 201) if is_prime(n)]\n",
        "print(primes)\n"
      ],
      "metadata": {
        "colab": {
          "base_uri": "https://localhost:8080/"
        },
        "id": "GPHqSwqRzj7m",
        "outputId": "b1c8ae91-3d69-4ed1-cb3b-40367ec36c72"
      },
      "execution_count": null,
      "outputs": [
        {
          "output_type": "stream",
          "name": "stdout",
          "text": [
            "[2, 3, 5, 7, 11, 13, 17, 19, 23, 29, 31, 37, 41, 43, 47, 53, 59, 61, 67, 71, 73, 79, 83, 89, 97, 101, 103, 107, 109, 113, 127, 131, 137, 139, 149, 151, 157, 163, 167, 173, 179, 181, 191, 193, 197, 199]\n"
          ]
        }
      ]
    },
    {
      "cell_type": "markdown",
      "source": [
        "5. Create an iterator class in Python that generates the Fibonacci sequence up to a specified number of terms.\n",
        "\n"
      ],
      "metadata": {
        "id": "5g3PecQYzjsi"
      }
    },
    {
      "cell_type": "code",
      "source": [
        "class FibonacciIterator:\n",
        "    def _init_(self, n):\n",
        "        self.n = n  # Number of terms to generate\n",
        "        self.current = 0  # Start from the first term\n",
        "        self.first, self.second = 0, 1  # First two terms of the Fibonacci sequence\n",
        "\n",
        "    def _iter_(self):\n",
        "        return self\n",
        "\n",
        "    def _next_(self):\n",
        "        if self.current >= self.n:\n",
        "            raise StopIteration  # Stop iteration when the specified number of terms is reached\n",
        "\n",
        "        if self.current == 0:\n",
        "            self.current += 1\n",
        "            return self.first  # Return the first Fibonacci number (0)\n",
        "        elif self.current == 1:\n",
        "            self.current += 1\n",
        "            return self.second  # Return the second Fibonacci number (1)\n",
        "        else:\n",
        "            next_fib = self.first + self.second  # Calculate the next Fibonacci number\n",
        "            self.first, self.second = self.second, next_fib  # Update values\n",
        "            self.current += 1\n",
        "            return next_fib\n",
        "\n"
      ],
      "metadata": {
        "id": "5FqPTS4lzjdD"
      },
      "execution_count": 28,
      "outputs": []
    },
    {
      "cell_type": "markdown",
      "source": [
        "6. Write a generator function in Python that yields the powers of 2 up to a given exponent.\n"
      ],
      "metadata": {
        "id": "sOrpsT3IzjLS"
      }
    },
    {
      "cell_type": "code",
      "source": [
        "def powers_of_two(n):\n",
        "    for i in range(n + 1):\n",
        "        yield 2 ** i\n",
        "\n",
        "# Example usage\n",
        "for power in powers_of_two(5):\n",
        "    print(power, end=\" \")"
      ],
      "metadata": {
        "id": "1aE8DdFpzi4Y",
        "colab": {
          "base_uri": "https://localhost:8080/"
        },
        "outputId": "862ec038-f037-4b83-fe16-489d6a02b595"
      },
      "execution_count": 19,
      "outputs": [
        {
          "output_type": "stream",
          "name": "stdout",
          "text": [
            "1 2 4 8 16 32 "
          ]
        }
      ]
    },
    {
      "cell_type": "markdown",
      "source": [
        "7. Implement a generator function that reads a file line by line and yields each line as a string.\n"
      ],
      "metadata": {
        "id": "lXc33LzozigY"
      }
    },
    {
      "cell_type": "code",
      "source": [
        "def read_file_line_by_line(file_path):\n",
        "    with open(file_path, 'r') as file:\n",
        "        for line in file:\n",
        "            yield line.strip()  # Remove any trailing newline or whitespace characters\n"
      ],
      "metadata": {
        "id": "tWD1Hkk_ziFK"
      },
      "execution_count": 27,
      "outputs": []
    },
    {
      "cell_type": "markdown",
      "source": [
        "8. Use a lambda function in Python to sort a list of tuples based on the second element of each tuple.\n",
        "\n"
      ],
      "metadata": {
        "id": "dhxnsev21V_A"
      }
    },
    {
      "cell_type": "code",
      "source": [
        "tuples_list = [(1, 'b'), (2, 'a'), (3, 'c')]\n",
        "sorted_list = sorted(tuples_list, key=lambda x: x[1])\n",
        "print(sorted_list)  # Output: [(2, 'a'), (1, 'b'), (3, 'c')]\n"
      ],
      "metadata": {
        "colab": {
          "base_uri": "https://localhost:8080/"
        },
        "id": "wkFuPqUr1VlF",
        "outputId": "8b86973d-5d4a-4e21-bf59-0d548556c4ea"
      },
      "execution_count": 29,
      "outputs": [
        {
          "output_type": "stream",
          "name": "stdout",
          "text": [
            "[(2, 'a'), (1, 'b'), (3, 'c')]\n"
          ]
        }
      ]
    },
    {
      "cell_type": "markdown",
      "source": [
        "9. Write a Python program that uses map() to convert a list of temperatures from Celsius to Fahrenheit.\n",
        "\n"
      ],
      "metadata": {
        "id": "DBF_Uo9z1mqK"
      }
    },
    {
      "cell_type": "code",
      "source": [
        "def celsius_to_fahrenheit(celsius):\n",
        "    return (celsius * 9/5) + 32\n",
        "\n",
        "celsius_list = [0, 20, 30, 40]\n",
        "fahrenheit_list = list(map(celsius_to_fahrenheit, celsius_list))\n",
        "print(fahrenheit_list)  # Output: [32.0, 68.0, 86.0, 104.0]\n"
      ],
      "metadata": {
        "colab": {
          "base_uri": "https://localhost:8080/"
        },
        "id": "lzH7AT_71mZE",
        "outputId": "289a744f-0286-48a2-8bf4-a97858fa8a96"
      },
      "execution_count": 30,
      "outputs": [
        {
          "output_type": "stream",
          "name": "stdout",
          "text": [
            "[32.0, 68.0, 86.0, 104.0]\n"
          ]
        }
      ]
    },
    {
      "cell_type": "markdown",
      "source": [
        "10. Create a Python program that uses filter() to remove all the vowels from a given string.\n",
        "\n"
      ],
      "metadata": {
        "id": "smbidmAB1mJP"
      }
    },
    {
      "cell_type": "code",
      "source": [
        "def remove_vowels(s):\n",
        "    vowels = 'aeiouAEIOU'\n",
        "    return ''.join(filter(lambda x: x not in vowels, s))\n",
        "\n",
        "# Example usage\n",
        "print(remove_vowels(\"hello world\"))  # Output: \"hll wrld\"\n"
      ],
      "metadata": {
        "colab": {
          "base_uri": "https://localhost:8080/"
        },
        "id": "Qfd6qsd71l39",
        "outputId": "995ffd0d-a026-4948-ddce-e931c20a6676"
      },
      "execution_count": 31,
      "outputs": [
        {
          "output_type": "stream",
          "name": "stdout",
          "text": [
            "hll wrld\n"
          ]
        }
      ]
    },
    {
      "cell_type": "markdown",
      "source": [
        "11) Imagine an accounting routine used in a book shop. It works on a list with sublists, which look like this:\n",
        "\n",
        "\n",
        "\n",
        "\n",
        "\n",
        "\n",
        "\n",
        "Write a Python program, which returns a list with 2-tuples. Each tuple consists of the order number and the\n",
        "product of the price per item and the quantity. The product should be increased by 10,- € if the value of the\n",
        "order is smaller than 100,00 €.\n",
        "\n",
        "Write a Python program using lambda and map."
      ],
      "metadata": {
        "id": "_wvFkbNr1lmA"
      }
    },
    {
      "cell_type": "code",
      "source": [
        "orders = [\n",
        "    (34587, 4, 40.95),\n",
        "    (98762, 5, 56.80),\n",
        "    (77226, 3, 32.95),\n",
        "    (88112, 3, 24.99)\n",
        "]\n",
        "\n",
        "# Calculate the total and apply the 10 € increase if necessary\n",
        "result = list(map(lambda x: (x[0], x[1] * x[2] if x[1] * x[2] >= 100 else x[1] * x[2] + 10), orders))\n",
        "\n",
        "# Example output\n",
        "print(result)\n",
        "# Output: [(34587, 163.8), (98762, 284.0), (77226, 98.84999999999999), (88112, 84.97)]\n"
      ],
      "metadata": {
        "colab": {
          "base_uri": "https://localhost:8080/"
        },
        "id": "Eclui7ED1lQL",
        "outputId": "92d597cf-523b-402c-b5b9-78dbf55a8a3e"
      },
      "execution_count": 35,
      "outputs": [
        {
          "output_type": "stream",
          "name": "stdout",
          "text": [
            "[(34587, 163.8), (98762, 284.0), (77226, 108.85000000000001), (88112, 84.97)]\n"
          ]
        }
      ]
    }
  ]
}